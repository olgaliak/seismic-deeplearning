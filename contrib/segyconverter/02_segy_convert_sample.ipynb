{
 "cells": [
  {
   "cell_type": "markdown",
   "metadata": {},
   "source": [
    "Copyright (c) Microsoft Corporation.\n",
    "\n",
    "Licensed under the MIT License."
   ]
  },
  {
   "cell_type": "markdown",
   "metadata": {},
   "source": [
    "# Converting SEG-Y files for training or validation\n",
    "\n",
    "This notebook describes how to prepare your own SEG-Y files for training.\n",
    "\n",
    "If you don’t have your owns SEG-Y file, you can run *01_segy_sample_files.jpynb* notebook for generating synthetics files.\n",
    "\n",
    "To use your own SEG-Y volumes to train models in the DeepSeismic repo, you need to bring at least one pair of ground truth and label data SEG-Y files where the files have an identical shape. The seismic data file contains  typical SEG-Y post stack data traces and the label data file should contain an integer class label at every sample in each trace.\n",
    "\n",
    "For each SEG-Y file, run the convert_segy.py script to create a npy file. Optionally, you can normalize and/or clip the data in the SEG-Y file as it is converted to npy.\n",
    "\n",
    "Once you have a pair of ground truth and related label npy files, you can edit one of the training scripts in the repo to use these files. One example is the [dutchf3 train.py](../../experiments/interpretation/dutchf3_patch/local/train.py) script.\n"
   ]
  },
  {
   "cell_type": "code",
   "execution_count": 1,
   "metadata": {},
   "outputs": [],
   "source": [
    "from itkwidgets import view\n",
    "import numpy as np\n",
    "import os\n",
    "\n",
    "SEGYFILE= './normalsegy.segy'\n",
    "PREFIX='normalsegy'\n",
    "OUTPUTDIR='data'"
   ]
  },
  {
   "cell_type": "markdown",
   "metadata": {},
   "source": [
    "## convert_segy.py usage"
   ]
  },
  {
   "cell_type": "code",
   "execution_count": 2,
   "metadata": {},
   "outputs": [
    {
     "name": "stdout",
     "output_type": "stream",
     "text": [
      "usage: train [-h] --prefix PREFIX --input_file INPUT_FILE\r\n",
      "             [--output_dir OUTPUT_DIR] [--metadata_only] [--iline ILINE]\r\n",
      "             [--xline XLINE] [--cube_size CUBE_SIZE] [--stride STRIDE]\r\n",
      "             [--normalize] [--clip]\r\n",
      "\r\n",
      "optional arguments:\r\n",
      "  -h, --help            show this help message and exit\r\n",
      "  --prefix PREFIX       prefix label for output files\r\n",
      "  --input_file INPUT_FILE\r\n",
      "                        segy file path\r\n",
      "  --output_dir OUTPUT_DIR\r\n",
      "                        Output files are written to this directory\r\n",
      "  --metadata_only       Only produce inline,xline metadata\r\n",
      "  --iline ILINE         segy file path\r\n",
      "  --xline XLINE         segy file path\r\n",
      "  --cube_size CUBE_SIZE\r\n",
      "                        cube dimensions\r\n",
      "  --stride STRIDE       stride\r\n",
      "  --normalize           Normalization flag - clip and normalize the data\r\n",
      "  --clip                Clipping flag - only clip the data\r\n"
     ]
    }
   ],
   "source": [
    "!python ./convert_segy.py --help"
   ]
  },
  {
   "cell_type": "markdown",
   "metadata": {},
   "source": [
    "# Example run\n",
    "\n",
    "Convert the SEG-Y file to a single output npy file in the local directory. Do not normalize or clip the data"
   ]
  },
  {
   "cell_type": "code",
   "execution_count": 3,
   "metadata": {},
   "outputs": [
    {
     "name": "stdout",
     "output_type": "stream",
     "text": [
      "\tFast Lines: 10 to 49 (40 lines)\n",
      "\tSlow Lines: 100 to 299 (200 lines)\n",
      "\tSample Size: 10\n",
      "\tTrace Count: 8000\n",
      "\tFirst five distinct Fast Line Indexes: [10, 11, 12, 13, 14]\n",
      "\tFirst five distinct Slow Line Indexes: [100 101 102 103 104]\n",
      "\tFirst five fast trace ids: [10 10 10 10 10]\n",
      "\tFirst five slow trace ids: [100 101 102 103 104]\n",
      "Npy files written: 1\n",
      "Completed SEG-Y converstion in: 1.1177106510003796\n",
      "Preparing File\n",
      "Clipping File\n",
      "Completed file preparation in 0.11429872900043847 seconds\n"
     ]
    }
   ],
   "source": [
    "!python ./convert_segy.py --prefix {PREFIX} --input_file {SEGYFILE} --output_dir {OUTPUTDIR} --clip"
   ]
  },
  {
   "cell_type": "markdown",
   "metadata": {},
   "source": [
    "## Post processing instructions\n",
    "\n",
    "There should now be on npy file in the local directory named donuthole_10_100_00000.npy. The number relate to the anchor point\n",
    "of the array. In this case, inline 10, crossline 100, and depth 0 is the origin [0,0,0] of the array.\n",
    "\n",
    "Rerun the convert_segy script for the related label file"
   ]
  },
  {
   "cell_type": "code",
   "execution_count": null,
   "metadata": {},
   "outputs": [],
   "source": [
    "npydata = np.load(f\"./{OUTPUTDIR}/{PREFIX}_10_100_00000.npy\")\n",
    "view(npydata, slicing_planes=True)"
   ]
  },
  {
   "cell_type": "markdown",
   "metadata": {},
   "source": [
    "### Prepare train/test splits file\n",
    "\n",
    "Once the data and label segy files are converted to npy, use the `prepare_dutchf3.py` script on the resulting npy file to generate the list of patches as input to the train script.\n",
    "\n",
    "In the next cell is a example of how to run this script. Note that we are using the same npy (normalsegy_10_100_00000.npy) file as seismic and labels because it is only for ilustration purposes.\n",
    "\n",
    "Also, once you've prepared the data set, you'll find your files in the following directory tree:   \n",
    "\n",
    "data_dir   \n",
    "├── output_dir   \n",
    "├── split    \n",
    "│&emsp;   ├── section_train.txt   \n",
    "│&emsp;   ├── section_train_val.txt   \n",
    "│&emsp;   ├── section_val.txt "
   ]
  },
  {
   "cell_type": "code",
   "execution_count": 5,
   "metadata": {},
   "outputs": [
    {
     "name": "stdout",
     "output_type": "stream",
     "text": [
      "aline:  40\r\n",
      "val_aline:  4\r\n",
      "aline:  200\r\n",
      "val_aline:  20\r\n"
     ]
    }
   ],
   "source": [
    "! python ../../scripts/prepare_dutchf3.py split_train_val section --data_dir={OUTPUTDIR} --label_file={PREFIX}_10_100_00000.npy --output_dir=splits --slice_steps=2 --log_config=None"
   ]
  },
  {
   "cell_type": "code",
   "execution_count": null,
   "metadata": {},
   "outputs": [],
   "source": []
  }
 ],
 "metadata": {
  "kernelspec": {
   "display_name": "seismic-interpretation",
   "language": "python",
   "name": "seismic-interpretation"
  },
  "language_info": {
   "codemirror_mode": {
    "name": "ipython",
    "version": 3
   },
   "file_extension": ".py",
   "mimetype": "text/x-python",
   "name": "python",
   "nbconvert_exporter": "python",
   "pygments_lexer": "ipython3",
   "version": "3.6.7"
  }
 },
 "nbformat": 4,
 "nbformat_minor": 2
}
