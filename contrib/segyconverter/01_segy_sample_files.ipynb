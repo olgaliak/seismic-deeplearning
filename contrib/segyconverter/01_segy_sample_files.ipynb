{
 "cells": [
  {
   "cell_type": "markdown",
   "metadata": {},
   "source": [
    "Copyright (c) Microsoft Corporation.\n",
    "\n",
    "Licensed under the MIT License."
   ]
  },
  {
   "cell_type": "markdown",
   "metadata": {},
   "source": [
    "# Generate Sythetic SEGY files for testing\n",
    "\n",
    "This notebook builds the test data used by the convert_segy unit tests. It covers just a few of the SEG-Y files that could be encountered if you bring your own SEG-Y files for training. This is not a comprehensive set of files so there still may be situations where the segyio or the convert_segy.py utility would fail to load the SEG-Y data."
   ]
  },
  {
   "cell_type": "code",
   "execution_count": null,
   "metadata": {},
   "outputs": [],
   "source": [
    "import utils.create_segy as utils\n",
    "import segyio"
   ]
  },
  {
   "cell_type": "markdown",
   "metadata": {},
   "source": [
    "## Create sample SEG-Y files for testing\n",
    "\n",
    "1. Control, that represents a perfect data, with no missing traces.\n",
    "2. Missing traces on the top-left and bottom right of the geographic field w/ inline sorting\n",
    "3. Missing traces on the top-left and bottom right of the geographic field w/ crossline sorting\n",
    "4. Missing trace in the center of the geographic field w/ inline sorting"
   ]
  },
  {
   "cell_type": "markdown",
   "metadata": {},
   "source": [
    "### Control File\n",
    "\n",
    "Create a file that has a cuboid shape with traces at all inline/crosslines"
   ]
  },
  {
   "cell_type": "code",
   "execution_count": null,
   "metadata": {},
   "outputs": [],
   "source": [
    "controlfile = './normalsegy.segy'\n",
    "utils.create_segy_file(lambda il, xl: True, controlfile)\n",
    "utils.show_segy_details(controlfile)\n",
    "utils.load_segy_with_geometry(controlfile)"
   ]
  },
  {
   "cell_type": "markdown",
   "metadata": {},
   "source": [
    "### Inline Error File\n",
    "\n",
    "inlineerror.segy will throw an error that inlines are not unique because it assumes the same number of inlines per crossline"
   ]
  },
  {
   "cell_type": "code",
   "execution_count": null,
   "metadata": {},
   "outputs": [],
   "source": [
    "inlinefile = './inlineerror.segy'\n",
    "utils.create_segy_file(lambda il, xl: not ((il < 20 and xl < 125) or (il > 40 and xl > 250)),\n",
    "    inlinefile, segyio.TraceSortingFormat.INLINE_SORTING)\n",
    "utils.show_segy_details(inlinefile)\n",
    "# Cannot load this file with inferred geometry; segyio will fail\n",
    "# utils.load_segy_with_geometry(inlinefile)"
   ]
  },
  {
   "cell_type": "markdown",
   "metadata": {},
   "source": [
    "### Crossline Error File\n",
    "\n",
    "xlineerror.segy will throw an error that crosslines are not unique because it assumes the same number of crosslines per inline"
   ]
  },
  {
   "cell_type": "code",
   "execution_count": null,
   "metadata": {},
   "outputs": [],
   "source": [
    "xlineerrorfile = './xlineerror.segy'\n",
    "utils.create_segy_file(lambda il, xl: not ((il < 20 and xl < 125) or (il > 40 and xl > 250)),\n",
    "    xlineerrorfile, segyio.TraceSortingFormat.CROSSLINE_SORTING)\n",
    "utils.show_segy_details(xlineerrorfile)\n",
    "# Cannot load this file with inferred geometry; segyio will fail\n",
    "# utils.load_segy_with_geometry(xlineerrorfile)"
   ]
  },
  {
   "cell_type": "markdown",
   "metadata": {},
   "source": [
    "### Cube hole SEG-Y file\n",
    "\n",
    "When collecting seismic data, unless in an area of open ocean, it is  rare to be able to collect all trace data from a rectangular field make the collection of traces from a uniform field \n"
   ]
  },
  {
   "cell_type": "code",
   "execution_count": null,
   "metadata": {},
   "outputs": [],
   "source": [
    "cubehole_segyfile = './cubehole.segy'\n",
    "utils.create_segy_file(lambda il, xl: not ((20 < il < 30) and (150 < xl < 250)),\n",
    "    cubehole_segyfile, segyio.TraceSortingFormat.INLINE_SORTING)\n",
    "utils.show_segy_details(cubehole_segyfile)\n",
    "# Cannot load this file with inferred geometry; segyio will fail\n",
    "# utils.load_segy_with_geometry(cubehole_segyfile)"
   ]
  }
 ],
 "metadata": {
  "kernelspec": {
   "display_name": "seismic-interpretation",
   "language": "python",
   "name": "seismic-interpretation"
  },
  "language_info": {
   "codemirror_mode": {
    "name": "ipython",
    "version": 3
   },
   "file_extension": ".py",
   "mimetype": "text/x-python",
   "name": "python",
   "nbconvert_exporter": "python",
   "pygments_lexer": "ipython3",
   "version": "3.6.7"
  }
 },
 "nbformat": 4,
 "nbformat_minor": 2
}
