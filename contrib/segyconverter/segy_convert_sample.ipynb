{
 "cells": [
  {
   "cell_type": "markdown",
   "metadata": {},
   "source": [
    "# Converting SEG-Y files for training or validation\n",
    "\n",
    "This notebook describes how to prepare your own SEG-Y files for training."
   ]
  },
  {
   "cell_type": "code",
   "execution_count": 29,
   "metadata": {},
   "outputs": [],
   "source": [
    "from itkwidgets import view\n",
    "import numpy as np\n",
    "\n",
    "SEGYFILE= './test/test_data/donuthole.segy'\n",
    "PREFIX='dh'"
   ]
  },
  {
   "cell_type": "markdown",
   "metadata": {},
   "source": [
    "## convert_segy.py usage"
   ]
  },
  {
   "cell_type": "code",
   "execution_count": 30,
   "metadata": {},
   "outputs": [
    {
     "name": "stdout",
     "output_type": "stream",
     "text": [
      "usage: train [-h] --prefix PREFIX --input_file INPUT_FILE\r\n",
      "             [--output_dir OUTPUT_DIR] [--metadata_only] [--iline ILINE]\r\n",
      "             [--xline XLINE] [--cube_size CUBE_SIZE] [--stride STRIDE]\r\n",
      "             [--normalize] [--input INPUT] [--output OUTPUT]\r\n",
      "\r\n",
      "optional arguments:\r\n",
      "  -h, --help            show this help message and exit\r\n",
      "  --prefix PREFIX       prefix label for output files\r\n",
      "  --input_file INPUT_FILE\r\n",
      "                        segy file path\r\n",
      "  --output_dir OUTPUT_DIR\r\n",
      "                        Output files are written to this directory\r\n",
      "  --metadata_only       Only produce inline,xline metadata\r\n",
      "  --iline ILINE         segy file path\r\n",
      "  --xline XLINE         segy file path\r\n",
      "  --cube_size CUBE_SIZE\r\n",
      "                        cube dimensions\r\n",
      "  --stride STRIDE       stride\r\n",
      "  --normalize           Normalization flag\r\n",
      "  --input INPUT         Used when running in Azure ML Service - Path to input\r\n",
      "                        data\r\n",
      "  --output OUTPUT       Used when running in Azure ML Service - Currently\r\n",
      "                        ignored\r\n"
     ]
    }
   ],
   "source": [
    "!python ./convert_segy.py --help"
   ]
  },
  {
   "cell_type": "markdown",
   "metadata": {},
   "source": [
    "# Example run"
   ]
  },
  {
   "cell_type": "code",
   "execution_count": 31,
   "metadata": {},
   "outputs": [
    {
     "name": "stdout",
     "output_type": "stream",
     "text": [
      "\tFast Lines: 10 to 49 (40 lines)\n",
      "\tSlow Lines: 100 to 299 (200 lines)\n",
      "\tSample Size: 10\n",
      "\tTrace Count: 7109\n",
      "\tFirst five distinct Fast Line Indexes: [10, 11, 12, 13, 14]\n",
      "\tFirst five distinct Slow Line Indexes: [100 101 102 103 104]\n",
      "\tFirst five fast trace ids: [10 10 10 10 10]\n",
      "\tFirst five slow trace ids: [100 101 102 103 104]\n",
      "Npy files written: 1\n",
      "Completed SEG-Y converstion in: 1.0162885370009462\n"
     ]
    }
   ],
   "source": [
    "!python ./convert_segy.py --prefix {PREFIX} --input_file {SEGYFILE} --output_dir ."
   ]
  },
  {
   "cell_type": "markdown",
   "metadata": {},
   "source": [
    "## Post processing instructions\n",
    "\n",
    "There should now be on npy file in the local directory named donuthole_10_100_00000.npy. The number relate to the anchor point\n",
    "of the array. In this case, inline 10, crossline 100, and depth 0 is the origin [0,0,0] of the array.\n",
    "\n",
    "Rerun the convert_segy script for the related label file"
   ]
  },
  {
   "cell_type": "code",
   "execution_count": 32,
   "metadata": {},
   "outputs": [
    {
     "data": {
      "application/vnd.jupyter.widget-view+json": {
       "model_id": "28876993418a4653ba586b70c38b3e1a",
       "version_major": 2,
       "version_minor": 0
      },
      "text/plain": [
       "Viewer(geometries=[], gradient_opacity=0.22, point_sets=[], rendered_image=<itkImagePython.itkImageF3; proxy o…"
      ]
     },
     "metadata": {},
     "output_type": "display_data"
    }
   ],
   "source": [
    "npydata = np.load(f\"{PREFIX}_10_100_00000.npy\")\n",
    "view(npydata, slicing_planes=True)"
   ]
  },
  {
   "cell_type": "code",
   "execution_count": null,
   "metadata": {},
   "outputs": [],
   "source": []
  },
  {
   "cell_type": "markdown",
   "metadata": {},
   "source": [
    "### Prepare train/test splits file\n",
    "\n",
    "Use the prepare_dutchf3 script on the resulting npy file to generate the list of patches used during the training run"
   ]
  },
  {
   "cell_type": "code",
   "execution_count": null,
   "metadata": {},
   "outputs": [],
   "source": []
  }
 ],
 "metadata": {
  "kernelspec": {
   "display_name": "py37_default",
   "language": "python",
   "name": "py37_default"
  },
  "language_info": {
   "codemirror_mode": {
    "name": "ipython",
    "version": 3
   },
   "file_extension": ".py",
   "mimetype": "text/x-python",
   "name": "python",
   "nbconvert_exporter": "python",
   "pygments_lexer": "ipython3",
   "version": "3.7.6"
  }
 },
 "nbformat": 4,
 "nbformat_minor": 2
}
