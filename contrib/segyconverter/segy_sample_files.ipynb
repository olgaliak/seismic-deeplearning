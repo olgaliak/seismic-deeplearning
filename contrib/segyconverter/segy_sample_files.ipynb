{
 "cells": [
  {
   "cell_type": "markdown",
   "execution_count": null,
   "metadata": {},
   "outputs": [],
   "source": [
    "Copyright (c) Microsoft Corporation.\n",
    "\n",
    "Licensed under the MIT License."
   ]
  },
  {
   "cell_type": "markdown",
   "metadata": {},
   "source": [
    "# Generate Sythetic SEGY files for testing\n",
    "\n",
    "This notebook builds the test data used by the convert_segy unit tests. It covers just a few of the SEG-Y files that could be encountered if you bring your own SEG-Y files for training. This is not a comprehensive set of files so there still may be situations where the segyio or the convert_segy.py utility would fail to load the SEG-Y data."
   ]
  },
  {
   "cell_type": "code",
   "execution_count": 1,
   "metadata": {},
   "outputs": [],
   "source": [
    "import segyio\n",
    "import numpy as np\n",
    "from glob import glob\n",
    "from os import listdir\n",
    "import os\n",
    "import pandas as pd\n",
    "import re\n",
    "import matplotlib.pyplot as pyplot"
   ]
  },
  {
   "cell_type": "code",
   "execution_count": 2,
   "metadata": {},
   "outputs": [],
   "source": [
    "def parse_trace_headers(segyfile, n_traces):\n",
    "    '''\n",
    "    Parse the segy file trace headers into a pandas dataframe.\n",
    "    Column names are defined from segyio internal tracefield\n",
    "    One row per trace\n",
    "    '''\n",
    "    # Get all header keys\n",
    "    headers = segyio.tracefield.keys\n",
    "    # Initialize dataframe with trace id as index and headers as columns\n",
    "    df = pd.DataFrame(index=range(1, n_traces + 1),\n",
    "                      columns=headers.keys())\n",
    "    # Fill dataframe with all header values\n",
    "    for k, v in headers.items():\n",
    "        df[k] = segyfile.attributes(v)[:]\n",
    "    return df\n",
    "\n",
    "\n",
    "def parse_text_header(segyfile):\n",
    "    '''\n",
    "    Format segy text header into a readable, clean dict\n",
    "    '''\n",
    "    raw_header = segyio.tools.wrap(segyfile.text[0])\n",
    "    # Cut on C*int pattern\n",
    "    cut_header = re.split(r'C ', raw_header)[1::]\n",
    "    # Remove end of line return\n",
    "    text_header = [x.replace('\\n', ' ') for x in cut_header]\n",
    "    text_header[-1] = text_header[-1][:-2]\n",
    "    # Format in dict\n",
    "    clean_header = {}\n",
    "    i = 1\n",
    "    for item in text_header:\n",
    "        key = \"C\" + str(i).rjust(2, '0')\n",
    "        i += 1\n",
    "        clean_header[key] = item\n",
    "    return clean_header"
   ]
  },
  {
   "cell_type": "code",
   "execution_count": 3,
   "metadata": {},
   "outputs": [],
   "source": [
    "def get_segy_details(segyfile):\n",
    "    with segyio.open(segyfile, ignore_geometry=True) as segy:\n",
    "        segydf = parse_trace_headers(segy, segy.tracecount)\n",
    "        print(f\"Loaded from file {segyfile}\")\n",
    "        print(f\"\\tTracecount: {segy.tracecount}\")\n",
    "        print(f\"\\tData Shape: {segydf.shape}\")\n",
    "        print(f\"\\tSample length: {len(segy.samples)}\")\n",
    "        pyplot.figure(figsize=(10,6))\n",
    "        pyplot.scatter(segydf[['INLINE_3D']],segydf[['CROSSLINE_3D']], marker=\",\")\n",
    "        pyplot.xlabel('inline')\n",
    "        pyplot.ylabel('crossline')\n",
    "        pyplot.show()\n",
    "        return segydf"
   ]
  },
  {
   "cell_type": "code",
   "execution_count": 4,
   "metadata": {},
   "outputs": [],
   "source": [
    "def load_segy_with_geometry(segyfile):\n",
    "    try:\n",
    "        segy = segyio.open(segyfile, ignore_geometry=False)\n",
    "        segy.mmap()\n",
    "        print(f\"Loaded with geometry: {segyfile} :\")\n",
    "        print(f\"\\tNum samples per trace: {len(segy.samples)}\")\n",
    "        print(f\"\\tNum traces in file: {segy.tracecount}\")\n",
    "    except ValueError as ex:\n",
    "        print(f\"Load failed with geometry: {segyfile} :\")\n",
    "        print(ex)"
   ]
  },
  {
   "cell_type": "code",
   "execution_count": 7,
   "metadata": {},
   "outputs": [],
   "source": [
    "def create_segy_file(masklambda, filename, sorting=segyio.TraceSortingFormat.INLINE_SORTING, ilinerange=[10,50], xlinerange=[100,300]):\n",
    "    spec = segyio.spec()\n",
    "\n",
    "\n",
    "    # to create a file from nothing, we need to tell segyio about the structure of\n",
    "    # the file, i.e. its inline numbers, crossline numbers, etc. You can also add\n",
    "    # more structural information, but offsets etc. have sensible defautls. This is\n",
    "    # the absolute minimal specification for a N-by-M volume\n",
    "    spec.sorting = 2\n",
    "    spec.format = 1\n",
    "    spec.samples = range(int(10))\n",
    "    spec.ilines = range(*map(int, ilinerange))\n",
    "    spec.xlines = range(*map(int, xlinerange))\n",
    "    print(f\"Written to {filename}\")\n",
    "    print(f\"\\tinlines: {len(spec.ilines)}\")\n",
    "    print(f\"\\tcrosslines: {len(spec.xlines)}\")\n",
    "\n",
    "    with segyio.create(filename, spec) as f:\n",
    "        # one inline consists of 50 traces\n",
    "        # which in turn consists of 2000 samples\n",
    "        step = 0.00001\n",
    "        start = step * len(spec.samples)\n",
    "        # fill a trace with predictable values: left-of-comma is the inline\n",
    "        # number. Immediately right of comma is the crossline number\n",
    "        # the rightmost digits is the index of the sample in that trace meaning\n",
    "        # looking up an inline's i's jth crosslines' k should be roughly equal\n",
    "        # to i.j0k\n",
    "        trace = np.linspace(-1,1,len(spec.samples),True,dtype=np.single)\n",
    "\n",
    "        if sorting == segyio.TraceSortingFormat.INLINE_SORTING:\n",
    "            # Write the file trace-by-trace and update headers with iline, xline\n",
    "            # and offset\n",
    "            tr = 0\n",
    "            for il in spec.ilines:\n",
    "                for xl in spec.xlines:\n",
    "                    if masklambda(il, xl):\n",
    "                        f.header[tr] = {\n",
    "                            segyio.su.offset: 1,\n",
    "                            segyio.su.iline: il,\n",
    "                            segyio.su.xline: xl\n",
    "                        }\n",
    "                        f.trace[tr] = trace * ((xl / 100.0) + il)\n",
    "                        tr += 1\n",
    "                      \n",
    "            f.bin.update(\n",
    "                tsort=segyio.TraceSortingFormat.CROSSLINE_SORTING\n",
    "            )\n",
    "        else:\n",
    "            # Write the file trace-by-trace and update headers with iline, xline\n",
    "            # and offset\n",
    "            tr = 0\n",
    "            for il in spec.ilines:\n",
    "                for xl in spec.xlines:\n",
    "                    if masklambda(il, xl):\n",
    "                        f.header[tr] = {\n",
    "                            segyio.su.offset: 1,\n",
    "                            segyio.su.iline: il,\n",
    "                            segyio.su.xline: xl\n",
    "                        }\n",
    "                        f.trace[tr] = trace + (xl / 100.0) + il\n",
    "                        tr += 1\n",
    "                 \n",
    "            f.bin.update(\n",
    "                tsort=segyio.TraceSortingFormat.INLINE_SORTING\n",
    "            )\n",
    "        print(f\"\\ttraces: {tr}\")\n",
    "\n"
   ]
  },
  {
   "cell_type": "markdown",
   "metadata": {},
   "source": [
    "## Create sample SEG-Y files for testing\n",
    "\n",
    "1. Control\n",
    "2. Missing traces on the top-left and bottom right of the geographic field w/ inline sorting\n",
    "3. Missing traces on the top-left and bottom right of the geographic field w/ crossline sorting\n",
    "4. Missing trace in the center of the geographic field w/ inline sorting"
   ]
  },
  {
   "cell_type": "markdown",
   "metadata": {},
   "source": [
    "### Control File\n",
    "\n",
    "Create a file that has a cuboid shape with traces at all inline/crosslines"
   ]
  },
  {
   "cell_type": "code",
   "execution_count": 8,
   "metadata": {},
   "outputs": [
    {
     "name": "stdout",
     "output_type": "stream",
     "text": [
      "Written to ./normalsegy.segy\n",
      "\tinlines: 40\n",
      "\tcrosslines: 200\n",
      "\ttraces: 8000\n",
      "Loaded from file ./normalsegy.segy\n",
      "\tTracecount: 8000\n",
      "\tData Shape: (8000, 91)\n",
      "\tSample length: 10\n"
     ]
    },
    {
     "data": {
      "image/png": "[encoded data removed]",
      "text/plain": [
       "<Figure size 720x432 with 1 Axes>"
      ]
     },
     "metadata": {
      "needs_background": "light"
     },
     "output_type": "display_data"
    },
    {
     "name": "stdout",
     "output_type": "stream",
     "text": [
      "Loaded with geometry: ./normalsegy.segy :\n",
      "\tNum samples per trace: 10\n",
      "\tNum traces in file: 8000\n"
     ]
    }
   ],
   "source": [
    "controlfile = './normalsegy.segy'\n",
    "create_segy_file(lambda il, xl: True, controlfile)\n",
    "get_segy_details(controlfile)\n",
    "load_segy_with_geometry(controlfile)"
   ]
  },
  {
   "cell_type": "markdown",
   "metadata": {},
   "source": [
    "### Inline Error File\n",
    "\n",
    "inlineerror.segy will throw an error that inlines are not unique because it assumes the same number of inlines per crossline"
   ]
  },
  {
   "cell_type": "code",
   "execution_count": 9,
   "metadata": {},
   "outputs": [
    {
     "name": "stdout",
     "output_type": "stream",
     "text": [
      "Written to ./inlineerror.segy\n",
      "\tinlines: 40\n",
      "\tcrosslines: 200\n",
      "\ttraces: 7309\n",
      "Loaded from file ./inlineerror.segy\n",
      "\tTracecount: 7309\n",
      "\tData Shape: (7309, 91)\n",
      "\tSample length: 10\n"
     ]
    },
    {
     "data": {
      "image/png": "[encoded data removed]",
      "text/plain": [
       "<Figure size 720x432 with 1 Axes>"
      ]
     },
     "metadata": {
      "needs_background": "light"
     },
     "output_type": "display_data"
    },
    {
     "name": "stdout",
     "output_type": "stream",
     "text": [
      "Load failed with geometry: ./inlineerror.segy :\n",
      "Inlines inconsistent, expect all inlines to be unique\n"
     ]
    }
   ],
   "source": [
    "inlinefile = './inlineerror.segy'\n",
    "create_segy_file(lambda il, xl: not ((il < 20 and xl < 125) or (il > 40 and xl > 250)),\n",
    "    inlinefile, segyio.TraceSortingFormat.INLINE_SORTING)\n",
    "get_segy_details(inlinefile)\n",
    "load_segy_with_geometry(inlinefile)"
   ]
  },
  {
   "cell_type": "markdown",
   "metadata": {},
   "source": [
    "### Crossline Error File\n",
    "\n",
    "xlineerror.segy will throw an error that crosslines are not unique because it assumes the same number of crosslines per inline"
   ]
  },
  {
   "cell_type": "code",
   "execution_count": 10,
   "metadata": {},
   "outputs": [
    {
     "name": "stdout",
     "output_type": "stream",
     "text": [
      "Written to ./xlineerror.segy\n",
      "\tinlines: 40\n",
      "\tcrosslines: 200\n",
      "\ttraces: 7309\n",
      "Loaded from file ./xlineerror.segy\n",
      "\tTracecount: 7309\n",
      "\tData Shape: (7309, 91)\n",
      "\tSample length: 10\n"
     ]
    },
    {
     "data": {
      "image/png": "[encoded data removed]",
      "text/plain": [
       "<Figure size 720x432 with 1 Axes>"
      ]
     },
     "metadata": {
      "needs_background": "light"
     },
     "output_type": "display_data"
    },
    {
     "name": "stdout",
     "output_type": "stream",
     "text": [
      "Load failed with geometry: ./xlineerror.segy :\n",
      "Inlines inconsistent, expect all inlines to be unique\n"
     ]
    }
   ],
   "source": [
    "xlineerrorfile = './xlineerror.segy'\n",
    "create_segy_file(lambda il, xl: not ((il < 20 and xl < 125) or (il > 40 and xl > 250)),\n",
    "    xlineerrorfile, segyio.TraceSortingFormat.CROSSLINE_SORTING)\n",
    "get_segy_details(xlineerrorfile)\n",
    "load_segy_with_geometry(xlineerrorfile)"
   ]
  },
  {
   "cell_type": "markdown",
   "metadata": {},
   "source": [
    "### Donut whole SEG-Y file\n",
    "\n",
    "When collecting seismic data, unless in an area of open ocean, it is  rare to be able to collect all trace data from a rectangular field make the collection of traces from a uniform field \n"
   ]
  },
  {
   "cell_type": "code",
   "execution_count": 11,
   "metadata": {},
   "outputs": [
    {
     "name": "stdout",
     "output_type": "stream",
     "text": [
      "Written to ./donuthole.segy\n",
      "\tinlines: 40\n",
      "\tcrosslines: 200\n",
      "\ttraces: 7109\n",
      "Loaded from file ./donuthole.segy\n",
      "\tTracecount: 7109\n",
      "\tData Shape: (7109, 91)\n",
      "\tSample length: 10\n"
     ]
    },
    {
     "data": {
      "image/png": "[encoded data removed]",
      "text/plain": [
       "<Figure size 720x432 with 1 Axes>"
      ]
     },
     "metadata": {
      "needs_background": "light"
     },
     "output_type": "display_data"
    },
    {
     "name": "stdout",
     "output_type": "stream",
     "text": [
      "Load failed with geometry: ./donuthole.segy :\n",
      "Invalid dimensions, ilines (35) * xlines (200) * offsets (1) should match the number of traces (7109)\n"
     ]
    }
   ],
   "source": [
    "donuthole_segyfile = './donuthole.segy'\n",
    "create_segy_file(lambda il, xl: not ((20 < il < 30) and (150 < xl < 250)),\n",
    "    donuthole_segyfile, segyio.TraceSortingFormat.INLINE_SORTING)\n",
    "get_segy_details(donuthole_segyfile)\n",
    "load_segy_with_geometry(donuthole_segyfile)"
   ]
  },
  {
   "cell_type": "code",
   "execution_count": null,
   "metadata": {},
   "outputs": [],
   "source": []
  },
  {
   "cell_type": "code",
   "execution_count": null,
   "metadata": {},
   "outputs": [],
   "source": []
  }
 ],
 "metadata": {
  "kernelspec": {
   "display_name": "py37_default",
   "language": "python",
   "name": "py37_default"
  },
  "language_info": {
   "codemirror_mode": {
    "name": "ipython",
    "version": 3
   },
   "file_extension": ".py",
   "mimetype": "text/x-python",
   "name": "python",
   "nbconvert_exporter": "python",
   "pygments_lexer": "ipython3",
   "version": "3.7.6"
  }
 },
 "nbformat": 4,
 "nbformat_minor": 2
}